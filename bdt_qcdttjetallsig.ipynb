{
 "cells": [
  {
   "cell_type": "code",
   "execution_count": 1,
   "id": "36eb6458",
   "metadata": {},
   "outputs": [],
   "source": [
    "import numpy as np\n",
    "import xgboost as xgb\n",
    "from sklearn.model_selection import train_test_split\n",
    "from sklearn.metrics import confusion_matrix, roc_curve, roc_auc_score, auc\n",
    "#from root_numpy import array2root, root2array\n",
    "import glob\n",
    "import matplotlib.pyplot as plt\n",
    "from time import strftime"
   ]
  },
  {
   "cell_type": "code",
   "execution_count": 2,
   "id": "e67294ad",
   "metadata": {},
   "outputs": [],
   "source": [
    "def get_bkg_features(sets_of_npzs, weights, n_target_events=10000):\n",
    "    \"\"\"\n",
    "    Gets a combined, weighted combination of events\n",
    "    \"\"\"\n",
    "    weights /= np.sum(weights) # normalize\n",
    "    print(f'weights: {weights}')\n",
    "    n_events_per_set = (weights * n_target_events).astype(np.int32)\n",
    "\n",
    "    print(f'n_events per set: {n_events_per_set}')\n",
    "\n",
    "    X_combined = []\n",
    "    for n_events, npzs in zip(n_events_per_set, sets_of_npzs):\n",
    "        print(f'n_events: {n_events}')\n",
    "        n_events_todo = n_events\n",
    "        for npz in npzs:\n",
    "            X = np.load(npz)['X'][:,:9]\n",
    "            n_events_this_npz = X.shape[0]\n",
    "            if n_events_this_npz > n_events_todo:\n",
    "                X = X[:n_events_todo]\n",
    "            X_combined.append(X)\n",
    "            n_events_todo -= X.shape[0]\n",
    "            if n_events_todo == 0: break\n",
    "        else:\n",
    "            print(f'Warning: reached end of set of files with n_events_todo={n_events_todo}')\n",
    "\n",
    "    X_final = np.vstack(X_combined)\n",
    "    assert len(X_final.shape) == 2\n",
    "    assert X_final.shape[1] == 9\n",
    "    return X_final"
   ]
  },
  {
   "cell_type": "code",
   "execution_count": 3,
   "id": "7b1f3636",
   "metadata": {},
   "outputs": [
    {
     "name": "stdout",
     "output_type": "stream",
     "text": [
      "weights: [8.64324044e-01 6.99715011e-02 1.98290573e-02 3.33269980e-03\n",
      " 9.49667496e-04 2.84267137e-03 6.86672911e-03 2.30579268e-04\n",
      " 4.01139550e-03 1.37638476e-02 1.38778077e-02]\n",
      "n_events per set: [8643  699  198   33    9   28   68    2   40  137  138]\n",
      "n_events: 8643\n",
      "n_events: 699\n",
      "n_events: 198\n",
      "n_events: 33\n",
      "n_events: 9\n",
      "n_events: 28\n",
      "n_events: 68\n",
      "n_events: 2\n",
      "n_events: 40\n",
      "n_events: 137\n",
      "n_events: 138\n"
     ]
    }
   ],
   "source": [
    "#labels = ['300to470', '470to600', '600to800', '800to1000', '1000to1400']\n",
    "#labels = ['300to470', '470to600', '600to800', '800to1000', '1000to1400', 'genMET', 'DiLept_TuneCP5', '600to800', '800to1200', '1200to2500', '2500toInf', 'SingleLeptFromTbar_genMET', 'SingleLeptFromTbar_TuneCP5', 'SingleLeptFromT_TuneCP5']\n",
    "labels = ['300to470', '470to600', '600to800', '800to1000', '1000to1400', 'genMET', 'DiLept_TuneCP5', '600to800', 'SingleLeptFromTbar_genMET', 'SingleLeptFromTbar_TuneCP5', 'SingleLeptFromT_TuneCP5']\n",
    "crosssections = [6826.0, 552.6, 156.6, 26.32, 7.50, 22.45, 54.23, 1.821, 31.68, 108.7, 109.6]#10% factor applied on qcd300to470 is the uncertainty\n",
    "sets_of_npzs = [ glob.iglob(f'data/bkg/*{l}*/*.npz') for l in labels ]\n",
    "X_bkg = get_bkg_features(sets_of_npzs, crosssections)\n",
    "y_bkg = np.zeros(X_bkg.shape[0])"
   ]
  },
  {
   "cell_type": "code",
   "execution_count": 4,
   "id": "dc44611a",
   "metadata": {},
   "outputs": [],
   "source": [
    "def get_sig_features(sets_of_npzs, weights, n_target_events=2500):\n",
    "    \"\"\"\n",
    "    Gets a combined, weighted combination of events\n",
    "    \"\"\"\n",
    "    weights /= np.sum(weights) # normalize\n",
    "    print(f'weights: {weights}')\n",
    "    n_events_per_set = (weights * n_target_events).astype(np.int32)\n",
    "\n",
    "    print(f'n_events per set: {n_events_per_set}')\n",
    "\n",
    "    X_combined = []\n",
    "    for n_events, npzs in zip(n_events_per_set, sets_of_npzs):\n",
    "        print(f'n_events: {n_events}')\n",
    "        n_events_todo = n_events\n",
    "        for npz in npzs:\n",
    "            #X = np.load(npz)['X'][:,:13]\n",
    "            X = np.load(npz)['X'][:,:9]\n",
    "            #print(f'loading variables: {X.shape[0]}')\n",
    "            #print(f'variables: {X}')\n",
    "            X\n",
    "            n_events_this_npz = X.shape[0]\n",
    "            if n_events_this_npz > n_events_todo:\n",
    "                X = X[:n_events_todo]\n",
    "            X_combined.append(X)\n",
    "            n_events_todo -= X.shape[0]\n",
    "            if n_events_todo == 0: break\n",
    "        else:\n",
    "            print(f'Warning: reached end of set of files with n_events_todo={n_events_todo}')\n",
    "\n",
    "    X_final = np.vstack(X_combined)\n",
    "    assert len(X_final.shape) == 2\n",
    "    assert X_final.shape[1] == 9\n",
    "    return X_final"
   ]
  },
  {
   "cell_type": "code",
   "execution_count": 25,
   "id": "e0d5ec4f",
   "metadata": {},
   "outputs": [
    {
     "name": "stdout",
     "output_type": "stream",
     "text": [
      " signal weights are: [1, 1, 1]\n",
      "weights: [0.33333333 0.33333333 0.33333333]\n",
      "n_events per set: [833 833 833]\n",
      "n_events: 833\n",
      "n_events: 833\n",
      "n_events: 833\n"
     ]
    }
   ],
   "source": [
    "#labels_sig = ['mz250', 'mz300', 'mz350', 'mz400', 'mz450']\n",
    "labels_sig = ['mz250', 'mz300', 'mz350']\n",
    "#labels_sig = ['mz250']\n",
    "#sig_xsec = [2542.87, 1403.216, 848.948]\n",
    "#sig_xsec = [1,1,1,1,1]\n",
    "sig_xsec = [1,1,1]\n",
    "#sig_xsec = [1]\n",
    "#labels_sig = ['mz250', 'mz350']\n",
    "#sig_xsec = [2542.87, 848.948]\n",
    "#sig_npzfiles = [ glob.iglob(f'/data/users/snabili/bdt/svj-bdt/files/signal/noTruthInfo/{l}*/*.npz') for l in labels_sig ]\n",
    "sig_npzfiles = [ glob.iglob(f'/data/users/snabili/bdt/svj-bdt/files/signal/newsamples/{l}*/*.npz') for l in labels_sig ]\n",
    "print(f' signal weights are: {sig_xsec}')\n",
    "#X_signal = np.load('/data/users/snabili/bdt/svj-bdt/files/bkg/finaltreemakersamples/treemaker_mz350mDard10rinv0p3.npz')['X'][:,:9]\n",
    "#y_signal = np.ones(sig_npzfiles.shape[0])\n",
    "#print(f'signal files are: ,{sig_npzfiles}\n",
    "X_signal = get_sig_features(sig_npzfiles, sig_xsec)\n",
    "y_signal = np.ones(X_signal.shape[0])"
   ]
  },
  {
   "cell_type": "code",
   "execution_count": 26,
   "id": "618e467f",
   "metadata": {},
   "outputs": [],
   "source": [
    "X = np.vstack((X_signal, X_bkg))\n",
    "y = np.concatenate((y_signal, y_bkg)).astype(np.int8)\n",
    "X_train, X_test, y_train, y_test = train_test_split(X, y, test_size=.2)\n",
    "y_train = y_train.astype(np.int8)\n",
    "y_test = y_test.astype(np.int8)"
   ]
  },
  {
   "cell_type": "code",
   "execution_count": 27,
   "id": "6486c892",
   "metadata": {},
   "outputs": [
    {
     "data": {
      "text/plain": [
       "array([0, 0, 1, ..., 0, 1, 0], dtype=int8)"
      ]
     },
     "execution_count": 27,
     "metadata": {},
     "output_type": "execute_result"
    }
   ],
   "source": [
    "y_train"
   ]
  },
  {
   "cell_type": "code",
   "execution_count": 28,
   "id": "6ddacbba",
   "metadata": {},
   "outputs": [
    {
     "name": "stderr",
     "output_type": "stream",
     "text": [
      "/home/snabili/miniconda3/envs/svj-bdt/lib/python3.9/site-packages/xgboost/sklearn.py:1146: UserWarning: The use of label encoder in XGBClassifier is deprecated and will be removed in a future release. To remove this warning, do the following: 1) Pass option use_label_encoder=False when constructing XGBClassifier object; and 2) Encode your labels (y) as integers starting with 0, i.e. 0, 1, 2, ..., [num_class - 1].\n",
      "  warnings.warn(label_encoder_deprecation_msg, UserWarning)\n"
     ]
    },
    {
     "name": "stdout",
     "output_type": "stream",
     "text": [
      "[13:01:18] WARNING: ../src/learner.cc:1095: Starting in XGBoost 1.3.0, the default evaluation metric used with the objective 'binary:logistic' was changed from 'error' to 'logloss'. Explicitly set eval_metric if you'd like to restore the old behavior.\n"
     ]
    },
    {
     "data": {
      "text/plain": [
       "XGBClassifier(base_score=0.5, booster='gbtree', colsample_bylevel=1,\n",
       "              colsample_bynode=1, colsample_bytree=1, eta=0.03, gamma=0,\n",
       "              gpu_id=-1, importance_type='gain', interaction_constraints='',\n",
       "              learning_rate=0.0299999993, max_delta_step=0, max_depth=4,\n",
       "              min_child_weight=1, missing=nan, monotone_constraints='()',\n",
       "              n_estimators=1000, n_jobs=8, num_parallel_tree=1, random_state=0,\n",
       "              reg_alpha=0, reg_lambda=1, scale_pos_weight=4.999599839935974,\n",
       "              subsample=1, tree_method='exact', validate_parameters=1,\n",
       "              verbosity=None)"
      ]
     },
     "execution_count": 28,
     "metadata": {},
     "output_type": "execute_result"
    }
   ],
   "source": [
    "model = xgb.XGBClassifier(\n",
    "    eta=.03, scale_pos_weight=y.shape[0]/np.sum(y),\n",
    "    #max_depth=3,\n",
    "    #n_estimators=850,\n",
    "    max_depth=4,\n",
    "    n_estimators=1000,\n",
    "\n",
    "    )\n",
    "model.fit(X_train, y_train)\n",
    "\n",
    "# NTrees=850\n",
    "# MinNodeSize=2.5%\n",
    "# MaxDepth=3\n",
    "# BoostType=AdaBoost\n",
    "# AdaBoostBeta=0.5\n",
    "# UseBaggedBoost\n",
    "# BaggedSampleFraction=0.5\n",
    "# SeparationType=GiniIndex\n",
    "# nCuts=20\n"
   ]
  },
  {
   "cell_type": "code",
   "execution_count": 29,
   "id": "ff7fc21f",
   "metadata": {},
   "outputs": [
    {
     "data": {
      "text/plain": [
       "array([[1443,  546],\n",
       "       [ 129,  381]])"
      ]
     },
     "execution_count": 29,
     "metadata": {},
     "output_type": "execute_result"
    }
   ],
   "source": [
    "y_pred = model.predict(X_test)\n",
    "y_prob = model.predict_proba(X_test)[:,1]\n",
    "confusion_matrix(y_test, y_pred)"
   ]
  },
  {
   "cell_type": "code",
   "execution_count": 30,
   "id": "d08c1bf9",
   "metadata": {},
   "outputs": [
    {
     "data": {
      "text/plain": [
       "Text(0, 0.5, 'Sig efficiency')"
      ]
     },
     "execution_count": 30,
     "metadata": {},
     "output_type": "execute_result"
    },
    {
     "data": {
      "image/png": "[encoded data removed]",
      "text/plain": [
       "<Figure size 432x432 with 1 Axes>"
      ]
     },
     "metadata": {
      "needs_background": "light"
     },
     "output_type": "display_data"
    }
   ],
   "source": [
    "eff_bkg, eff_sig, cuts = roc_curve(y_test, y_prob)\n",
    "\n",
    "fig = plt.figure(figsize=(6,6))\n",
    "ax = fig.gca()\n",
    "ax.plot([0,1], [0,1], c='gray')\n",
    "ax.plot(eff_bkg, eff_sig)\n",
    "ax.set_ylim(0., 1.)\n",
    "ax.set_xlim(0., 1.)\n",
    "ax.set_xlabel('Bkg efficiency')\n",
    "ax.set_ylabel('Sig efficiency')"
   ]
  },
  {
   "cell_type": "code",
   "execution_count": 42,
   "id": "9282aecd",
   "metadata": {},
   "outputs": [
    {
     "name": "stdout",
     "output_type": "stream",
     "text": [
      "eff_sig: 0.371, bkg_eff: 0.050, cut: 0.788\n",
      "eff_sig: 0.747, bkg_eff: 0.276, cut: 0.499\n"
     ]
    }
   ],
   "source": [
    "i_wp = np.argmax(eff_bkg >= .05)\n",
    "print(f'eff_sig: {eff_sig[i_wp]:.3f}, bkg_eff: {eff_bkg[i_wp]:.3f}, cut: {cuts[i_wp]:.3f}')\n",
    "\n",
    "i_wp = np.argmax(eff_bkg >= .275)\n",
    "print(f'eff_sig: {eff_sig[i_wp]:.3f}, bkg_eff: {eff_bkg[i_wp]:.3f}, cut: {cuts[i_wp]:.3f}')"
   ]
  },
  {
   "cell_type": "markdown",
   "id": "b51b1604",
   "metadata": {},
   "source": [
    " model.save_model(strftime('svjbdt_%b%d.json'))"
   ]
  },
  {
   "cell_type": "code",
   "execution_count": 43,
   "id": "b03cf489",
   "metadata": {},
   "outputs": [
    {
     "data": {
      "text/plain": [
       "0.8226342925304861"
      ]
     },
     "execution_count": 43,
     "metadata": {},
     "output_type": "execute_result"
    }
   ],
   "source": [
    "auc(eff_bkg, eff_sig)"
   ]
  },
  {
   "cell_type": "code",
   "execution_count": 44,
   "id": "32949834",
   "metadata": {},
   "outputs": [],
   "source": [
    "y_prob_sig = y_prob[y_test == 1]\n",
    "y_prob_bkg = y_prob[y_test == 0]"
   ]
  },
  {
   "cell_type": "code",
   "execution_count": 45,
   "id": "c8998c48",
   "metadata": {},
   "outputs": [
    {
     "data": {
      "text/plain": [
       "Text(0.5, 0, 'BDT score')"
      ]
     },
     "execution_count": 45,
     "metadata": {},
     "output_type": "execute_result"
    },
    {
     "data": {
      "image/png": "[encoded data removed]",
      "text/plain": [
       "<Figure size 432x432 with 1 Axes>"
      ]
     },
     "metadata": {
      "needs_background": "light"
     },
     "output_type": "display_data"
    }
   ],
   "source": [
    "fig = plt.figure(figsize=(6,6))\n",
    "ax = fig.gca()\n",
    "\n",
    "ax.hist(y_prob_sig, label='sig', density=True)\n",
    "ax.hist(y_prob_bkg, label='bkg', alpha=.5, density=True)\n",
    "ax.legend()\n",
    "ax.set_ylabel('A.U.')\n",
    "ax.set_xlabel('BDT score')"
   ]
  },
  {
   "cell_type": "code",
   "execution_count": 21,
   "id": "b51a194a",
   "metadata": {},
   "outputs": [
    {
     "ename": "ModuleNotFoundError",
     "evalue": "No module named 'root_numpy'",
     "output_type": "error",
     "traceback": [
      "\u001b[0;31m---------------------------------------------------------------------------\u001b[0m",
      "\u001b[0;31mModuleNotFoundError\u001b[0m                       Traceback (most recent call last)",
      "\u001b[0;32m/tmp/ipykernel_2875633/1292449149.py\u001b[0m in \u001b[0;36m<module>\u001b[0;34m\u001b[0m\n\u001b[0;32m----> 1\u001b[0;31m \u001b[0;32mfrom\u001b[0m \u001b[0mroot_numpy\u001b[0m \u001b[0;32mimport\u001b[0m \u001b[0marray2root\u001b[0m\u001b[0;34m,\u001b[0m \u001b[0mroot2array\u001b[0m\u001b[0;34m\u001b[0m\u001b[0;34m\u001b[0m\u001b[0m\n\u001b[0m",
      "\u001b[0;31mModuleNotFoundError\u001b[0m: No module named 'root_numpy'"
     ]
    }
   ],
   "source": [
    "from root_numpy import array2root, root2array"
   ]
  },
  {
   "cell_type": "code",
   "execution_count": 22,
   "id": "592ffedb",
   "metadata": {},
   "outputs": [],
   "source": [
    "#corrmat = np.corrcoef(X.T)\n",
    "corrmat = np.corrcoef(X)\n",
    "#print(f'corrmat: {corrmat}')\n",
    "corrmat = np.corrcoef(X.T)\n",
    "#print('*'*50)\n",
    "#print(f'corrmat: {corrmat}')"
   ]
  },
  {
   "cell_type": "code",
   "execution_count": 23,
   "id": "c24b7fad",
   "metadata": {},
   "outputs": [
    {
     "data": {
      "text/plain": [
       "(9, 9)"
      ]
     },
     "execution_count": 23,
     "metadata": {},
     "output_type": "execute_result"
    }
   ],
   "source": [
    "corrmat.shape"
   ]
  },
  {
   "cell_type": "code",
   "execution_count": 24,
   "id": "e4fc5eae",
   "metadata": {},
   "outputs": [
    {
     "name": "stderr",
     "output_type": "stream",
     "text": [
      "/tmp/ipykernel_2875633/3363637621.py:5: UserWarning: FixedFormatter should only be used together with FixedLocator\n",
      "  ax.set_xticklabels(['']+labels, rotation=90)\n",
      "/tmp/ipykernel_2875633/3363637621.py:6: UserWarning: FixedFormatter should only be used together with FixedLocator\n",
      "  ax.set_yticklabels(['']+labels)\n"
     ]
    },
    {
     "ename": "NameError",
     "evalue": "name 'array2root' is not defined",
     "output_type": "error",
     "traceback": [
      "\u001b[0;31m---------------------------------------------------------------------------\u001b[0m",
      "\u001b[0;31mNameError\u001b[0m                                 Traceback (most recent call last)",
      "\u001b[0;32m/tmp/ipykernel_2875633/3363637621.py\u001b[0m in \u001b[0;36m<module>\u001b[0;34m\u001b[0m\n\u001b[1;32m     10\u001b[0m \u001b[0my_prob_sig\u001b[0m\u001b[0;34m.\u001b[0m\u001b[0mdtype\u001b[0m \u001b[0;34m=\u001b[0m \u001b[0;34m[\u001b[0m\u001b[0;34m(\u001b[0m\u001b[0;34m'y_prob_sig'\u001b[0m\u001b[0;34m,\u001b[0m \u001b[0;34m'float32'\u001b[0m\u001b[0;34m)\u001b[0m\u001b[0;34m]\u001b[0m\u001b[0;34m\u001b[0m\u001b[0;34m\u001b[0m\u001b[0m\n\u001b[1;32m     11\u001b[0m \u001b[0my_prob_bkg\u001b[0m\u001b[0;34m.\u001b[0m\u001b[0mdtype\u001b[0m \u001b[0;34m=\u001b[0m \u001b[0;34m[\u001b[0m\u001b[0;34m(\u001b[0m\u001b[0;34m'y_prob_bkg'\u001b[0m\u001b[0;34m,\u001b[0m \u001b[0;34m'float32'\u001b[0m\u001b[0;34m)\u001b[0m\u001b[0;34m]\u001b[0m\u001b[0;34m\u001b[0m\u001b[0;34m\u001b[0m\u001b[0m\n\u001b[0;32m---> 12\u001b[0;31m \u001b[0marray2root\u001b[0m\u001b[0;34m(\u001b[0m\u001b[0my_prob_sig\u001b[0m\u001b[0;34m,\u001b[0m\u001b[0;34m'test_signal.root'\u001b[0m\u001b[0;34m,\u001b[0m \u001b[0;34m'tre'\u001b[0m\u001b[0;34m)\u001b[0m\u001b[0;34m\u001b[0m\u001b[0;34m\u001b[0m\u001b[0m\n\u001b[0m\u001b[1;32m     13\u001b[0m \u001b[0marray2root\u001b[0m\u001b[0;34m(\u001b[0m\u001b[0my_prob_bkg\u001b[0m\u001b[0;34m,\u001b[0m\u001b[0;34m'test_background.root'\u001b[0m\u001b[0;34m,\u001b[0m \u001b[0;34m'tre'\u001b[0m\u001b[0;34m)\u001b[0m\u001b[0;34m\u001b[0m\u001b[0;34m\u001b[0m\u001b[0m\n",
      "\u001b[0;31mNameError\u001b[0m: name 'array2root' is not defined"
     ]
    },
    {
     "data": {
      "image/png": "[encoded data removed]",
      "text/plain": [
       "<Figure size 576x576 with 2 Axes>"
      ]
     },
     "metadata": {
      "needs_background": "light"
     },
     "output_type": "display_data"
    }
   ],
   "source": [
    "labels = ['girth', 'ptD', 'axismajor', 'axisminor', 'ecfM2b1', 'ecfD2b1', 'ecfC2b1', 'ecfN2b2', 'metdphi']\n",
    "fig = plt.figure(figsize=(8,8))\n",
    "ax = fig.gca()\n",
    "mshow = ax.matshow(corrmat, cmap=plt.cm.Reds)\n",
    "ax.set_xticklabels(['']+labels, rotation=90)\n",
    "ax.set_yticklabels(['']+labels)\n",
    "\n",
    "cbar = fig.colorbar(mshow)\n",
    "cbar\n",
    "y_prob_sig.dtype = [('y_prob_sig', 'float32')]\n",
    "y_prob_bkg.dtype = [('y_prob_bkg', 'float32')]\n",
    "array2root(y_prob_sig,'test_signal.root', 'tre')\n",
    "array2root(y_prob_bkg,'test_background.root', 'tre')"
   ]
  },
  {
   "cell_type": "raw",
   "id": "062ca93b",
   "metadata": {},
   "source": [
    "dir(plt.cm)"
   ]
  },
  {
   "cell_type": "code",
   "execution_count": null,
   "id": "dc351bc7",
   "metadata": {},
   "outputs": [],
   "source": [
    "#import numpy\n",
    "#data = np.load(\"data/signal.npz\")\n",
    "#data = np.load(\"data/signal.npz\")['X'][:,:1]\n",
    "#print(f'data first item is: {data.items()}')\n",
    "#data[0]\n",
    "#print('*'*50)\n",
    "#data[1]\n",
    "#all = [('data', 'float32')]\n",
    "#y_prob_bkg.dtype = [('y_prob_bkg', 'float32')]\n",
    "#array2root(all, \"test.root\", \"tree1\")"
   ]
  },
  {
   "cell_type": "code",
   "execution_count": null,
   "id": "0198cff2",
   "metadata": {},
   "outputs": [],
   "source": [
    "plt.cm.Reds"
   ]
  },
  {
   "cell_type": "markdown",
   "id": "0c83a595",
   "metadata": {},
   "source": [
    "## Check model IO"
   ]
  },
  {
   "cell_type": "code",
   "execution_count": 20,
   "id": "a9b65a68",
   "metadata": {},
   "outputs": [],
   "source": [
    "model2 = xgb.XGBClassifier()\n",
    "model2.load_model('svjbdt_Sep21.json')"
   ]
  },
  {
   "cell_type": "code",
   "execution_count": 21,
   "id": "d49db5f0",
   "metadata": {},
   "outputs": [
    {
     "data": {
      "text/plain": [
       "array([[0.8196123 , 0.18038766],\n",
       "       [0.67287016, 0.3271298 ],\n",
       "       [0.9984967 , 0.00150326],\n",
       "       [0.20984143, 0.79015857],\n",
       "       [0.17375535, 0.82624465],\n",
       "       [0.9924039 , 0.00759609],\n",
       "       [0.16784364, 0.83215636],\n",
       "       [0.9435164 , 0.05648363],\n",
       "       [0.75425124, 0.24574874],\n",
       "       [0.74996036, 0.25003964]], dtype=float32)"
      ]
     },
     "execution_count": 21,
     "metadata": {},
     "output_type": "execute_result"
    }
   ],
   "source": [
    "model.predict_proba(X_test[:10])"
   ]
  },
  {
   "cell_type": "code",
   "execution_count": 27,
   "id": "4b0a21b9",
   "metadata": {},
   "outputs": [
    {
     "data": {
      "text/plain": [
       "array([[0.9848402 , 0.01515981],\n",
       "       [0.8621958 , 0.1378042 ],\n",
       "       [0.25562108, 0.7443789 ],\n",
       "       [0.74413335, 0.25586662],\n",
       "       [0.10223418, 0.8977658 ],\n",
       "       [0.00329006, 0.99670994],\n",
       "       [0.36756986, 0.63243014],\n",
       "       [0.39677912, 0.6032209 ],\n",
       "       [0.6682416 , 0.3317584 ],\n",
       "       [0.06795782, 0.9320422 ]], dtype=float32)"
      ]
     },
     "execution_count": 27,
     "metadata": {},
     "output_type": "execute_result"
    }
   ],
   "source": [
    "model2.predict_proba(X_test[:10])"
   ]
  },
  {
   "cell_type": "code",
   "execution_count": null,
   "id": "f56d56b0",
   "metadata": {},
   "outputs": [],
   "source": []
  },
  {
   "cell_type": "code",
   "execution_count": null,
   "id": "85920c37",
   "metadata": {},
   "outputs": [],
   "source": []
  }
 ],
 "metadata": {
  "interpreter": {
   "hash": "df9a54f4167280a93502cf6bb4ca43638a1456594349236a070368164efd45b7"
  },
  "kernelspec": {
   "display_name": "Python 3 (ipykernel)",
   "language": "python",
   "name": "python3"
  },
  "language_info": {
   "codemirror_mode": {
    "name": "ipython",
    "version": 3
   },
   "file_extension": ".py",
   "mimetype": "text/x-python",
   "name": "python",
   "nbconvert_exporter": "python",
   "pygments_lexer": "ipython3",
   "version": "3.9.7"
  }
 },
 "nbformat": 4,
 "nbformat_minor": 5
}
